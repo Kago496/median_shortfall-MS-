{
 "cells": [
  {
   "cell_type": "code",
   "execution_count": null,
   "id": "5f6b59cf",
   "metadata": {},
   "outputs": [],
   "source": [
    "def value_at_risk(returns, confidence_level):\n",
    "    \"\"\"\n",
    "    Compute the Value-at-Risk metric of returns at confidence_level\n",
    "    :param returns: DataFrame\n",
    "    :param confidence_level: float\n",
    "    :return: float\n",
    "    \"\"\"\n",
    "\n",
    "    # Calculate the highest return in the lowest quantile (based on confidence level)\n",
    "    var = returns.quantile(q=confidence_level, interpolation=\"higher\")\n",
    "    return var\n",
    "\n",
    "def median_shortfall(returns, confidence_level):\n",
    "    \"\"\"\n",
    "    Compute the Median Shortfall metric of returns at confidence_level\n",
    "    :param returns: DataFrame\n",
    "    :param confidence_level: float\n",
    "    :return: float\n",
    "    \"\"\"\n",
    "\n",
    "    # Calculate the VaR of the returns\n",
    "    var = value_at_risk(returns, confidence_level)\n",
    "\n",
    "    # Find all returns in the worst quantile\n",
    "    worst_returns = returns[returns.lt(var)]\n",
    "\n",
    "    # Calculate median of all the worst returns\n",
    "    median_shortfall = worst_returns.median()\n",
    "\n",
    "    return median_shortfall\n"
   ]
  }
 ],
 "metadata": {
  "kernelspec": {
   "display_name": "Python 3 (ipykernel)",
   "language": "python",
   "name": "python3"
  },
  "language_info": {
   "codemirror_mode": {
    "name": "ipython",
    "version": 3
   },
   "file_extension": ".py",
   "mimetype": "text/x-python",
   "name": "python",
   "nbconvert_exporter": "python",
   "pygments_lexer": "ipython3",
   "version": "3.9.7"
  }
 },
 "nbformat": 4,
 "nbformat_minor": 5
}
